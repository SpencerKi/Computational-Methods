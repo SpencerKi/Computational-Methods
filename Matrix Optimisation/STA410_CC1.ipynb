{
 "cells": [
  {
   "cell_type": "markdown",
   "id": "2eb9cc28",
   "metadata": {},
   "source": [
    "# STA410 Coding Challenge I (10 points)\n",
    "\n",
    "Welcome.\n",
    "\n",
    "- If you experience technical issues while working on this coding challenge, send a message to sta410@utoronto.ca.\n",
    "\n",
    "- Any live messages that need to be communicated to the class in real-time during the coding challenge will be posted on [piazza](https://piazza.com/utoronto.ca/winter2023/sta410).\n",
    "\n",
    "- ***You may add cells for scratch work***, but if required answers are not submitted through the provided cells where the answers are requested your answers will not be graded.\n",
    "\n",
    "- ***If you accidentally delete a required cell***, try \"Edit > Undo Delete Cells\" in the notebook editor; otherwise, redownload the notebook (so it has the correct required cells ids) and repopulate it with your answers (assuming you don't overwrite them).\n",
    "\n",
    "\n",
    "\n",
    "\n",
    "## Rules\n",
    "\n",
    "0. **This is an individual assignment.** You are not permitted to engage in any form of active or passive collusion or collaboration with other human beings while working on this challenge.  ***You may NOT access chat or communication applications during the coding challenge.***\n",
    "\n",
    "\n",
    "1. You are welcome and encouraged to adapt code you find available online into your notebook; however, if you do so you must provide a link to the utilized resource. ***Failure to list such references may result in a loss of points.***\n",
    "\n",
    "\n",
    "2. **Do not delete or replace cells**: this erases `cell ids` upon which automated code tests are based.\n",
    "\n",
    "  > ***If you are working in any environment other than*** [UofT JupyterLab](https://jupyter.utoronto.ca/hub/user-redirect/git-pull?repo=https://github.com/pointOfive/sta410hw0&branch=master&urlpath=/lab/tree/sta410hw0), [UofT JupyterHub](https://jupyter.utoronto.ca/hub/user-redirect/git-pull?repo=https://github.com/pointOfive/sta410hw0&branch=master), or [Google Colab](https://colab.research.google.com/github/pointOfive/sta410hw0/blob/master/sta410hw0.ipynb), your system must meet the following versioning requirements \n",
    "   >\n",
    "   >   - [notebook format >=4.5](https://github.com/jupyterlab/jupyterlab/issues/9729) \n",
    "   >   - jupyter [notebook](https://jupyter.org/install#jupyter-notebook) version [>=6.2](https://jupyter-notebook.readthedocs.io/en/stable/) for \"classic\" notebooks served by [jupyterhub](https://jupyterhub.readthedocs.io/en/stable/quickstart.html)\n",
    "   >   - [jupyterlab](https://jupyter.org/install) version [>=3.0.13](https://github.com/jupyterlab/jupyterlab/releases/tag/v3.0.13) for \"jupyterlab\" notebooks  \n",
    "   >    \n",
    "   > otherwise `cell ids` will not be supported and you will not get any credit for your submitted homework.  \n",
    "      \n",
    "      \n",
    "3. **No cells may have any runtime errors** because this causes subsequent automated code tests to fail and you will not get marks for tests which fail because of previous runtime errors. \n",
    "\n",
    "  - Run time errors include, e.g., unassigned variables, mismatched parentheses, and any code which does not work when the notebook cells are sequentially run, even if it was provided for you as part of the starter code. ***It is best to restart and re-run the cells in your notebook to ensure there are no runtime errors before submitting your work.***\n",
    "    \n",
    "  - The `try`-`except` block syntax catches runtime errors and transforms them into `exceptions` which will not cause subsequent automated code tests to fail.  \n",
    "\n",
    "\n",
    "4. **No jupyter shortcut commands** such as `! pwd` or `%%timeit` may be included in the final submission as they will cause subsequent automated code tests to fail.\n",
    "\n",
    "  - ***Comment out ALL jupyter shortcut commands***, e.g., `# ! pwd` or `# %%timeit` in submitted notebooks.\n",
    "\n",
    "\n",
    "5. **Python library imports are limited** to only libraries imported in the starter code and the [standard python modules](https://docs.python.org/3/py-modindex.html). Importing additional libraries will cause subsequent automated code tests to fail.\n",
    "\n",
    "  > Unless a problem instructs differently, you may use any functions available from the libraries imported in the starter code; otherwise, you are expected to create your own Python functionality based on the Python stdlib (standard libary, i.e., base Python and standard Python modules)."
   ]
  },
  {
   "cell_type": "markdown",
   "id": "21f8ff55",
   "metadata": {},
   "source": [
    "# Problem 0 (Required)\n",
    "\n",
    "Assign the string `\"yes\"` into `p0q0` below, indcating that ***you will complete this assignment on your own and not in a collaborative manner with other classmates or tutors, etc.***. Then \"sign\" this with your name by assigning `p0q1` a string value of your name."
   ]
  },
  {
   "cell_type": "code",
   "execution_count": 1,
   "id": "4e3c1a97",
   "metadata": {
    "deletable": false
   },
   "outputs": [],
   "source": [
    "# Required: only worth points when not completed, in which case, you'll lose points\n",
    "\n",
    "p0q0 = \"yes\"\n",
    "# I agree to complete this assignment on my own and not in a collaborative manner with other classmates or tutors, etc.\n",
    "p0q1 = \"Spencer Ki\"\n",
    "\n",
    "# This cell will produce a runtime error until you assign a values into `p0q0` and `p0q1`"
   ]
  },
  {
   "cell_type": "code",
   "execution_count": 2,
   "id": "8adab7cb",
   "metadata": {
    "deletable": false,
    "editable": false
   },
   "outputs": [],
   "source": [
    "import numpy as np\n",
    "from numpy.linalg import inv, solve, cholesky, svd, qr\n",
    "from scipy import stats\n",
    "import statsmodels.api as sm\n",
    "from scipy.linalg import solve_triangular\n",
    "import matplotlib.pyplot as plt\n",
    "import os\n",
    "from sklearn.datasets import fetch_olivetti_faces"
   ]
  },
  {
   "cell_type": "markdown",
   "id": "919fe5e3",
   "metadata": {},
   "source": [
    "# Problem 1 (5 points)\n",
    "\n",
    "***Randomized SVD*** addresses the $X_{n\\times p} = U_{n \\times p}D_{p \\times p}V^T_{p \\times p} = U_{n \\times r}D_{r \\times r}V^T_{p \\times r}$ decomposition when $n$ and $p$ together are prohibitively large, but $r<<p$.\n",
    "\n",
    "- The ***SVD*** of an $n \\times p$ matrix has complexity $O(n\\times p \\times \\min(n, p))$\n",
    "- The ***QR decomposition*** of an $n \\times p$ matrix also has complexity $O(n\\times p \\times \\min(n, p))$\n",
    "\n",
    "The ***Randomized SVD*** works as follows.\n",
    "1. A random matrix $P_{p\\times r}$ is generated\n",
    "2. $Z_{n\\times r} = X_{n\\times p}P_{p\\times r}$ is computed, which randomly samples the column space of $X$\n",
    "3. The ***QR decomposition*** $Z_{n\\times r}=Q_{n\\times r}R_{r\\times r}$ is computed\n",
    "\n",
    "   So $Q$ is an ***orthogonal basis*** for $Z$, and also for $X$ since $\\text{rank}(X)=r$\n",
    "   \n",
    "   \n",
    "4. $X$ is now projected onto the ***orthogonal directions*** $Q$ as $Y_{r \\times p}=Q^TX$\n",
    "5. The ***SVD*** $Y_{r \\times p} = \\underset{r \\times r}{U_Y} \\underset{r \\times r}{D_Y} \\underset{r \\times p}{V_Y^T}$ is then computed\n",
    "\n",
    "   > and it can be seen that for the original $U_{n \\times r}D_{r \\times r}V^T_{p \\times r} = X_{n\\times p}$ ***SVD*** \n",
    "   > - $D_Y\\approx D_{r \\times r}$\n",
    "   > - columns $[Q_{n \\times r} U_Y{}_{r \\times p}]_{\\cdot j} \\approx \\pm[U_{n \\times p}]_{\\cdot j}$\n",
    "   > - columns $[\\underset{p \\times r}{V_Y{}}]_{\\cdot j} \\approx \\pm[V_{p \\times p}]_{\\cdot j}$ for $j=1,\\cdots,r$\n",
    "   >\n",
    "   > such that, finally\n",
    "   \n",
    "6. $X \\approx Q U_Y D_Y V_Y^T$ which required computations based on $Z_{n\\times r}$ and $Y_{r \\times p}$  instead of $X_{n\\times p}$ when $r << p$\n",
    "\n",
    "   so long as the column space of $Z$ is representative of the column space of $X$, which the random project matrix $P_{p\\times r}$ can guarantee for sufficiently large $r$ in large $X_{n \\times p}$ contexts.\n",
    "\n",
    "\n",
    "In the end this is simply seen to be projecting $X$ into a lower dimensional space which can accurately represent $X$ using $Q^T$, performing the desired computations in that lower dimensional space (where they're less expensive), and the projecting the result back out to the original space with $Q$.\n",
    "\n",
    "***Hints:*** \n",
    "\n",
    "- ***Randomized SVD*** is a technique that comes from the emerging framework of ***Randomized linear algrebra*** which is based on leveraging \"central limit\"-like properties of random matrices (like $P$ here); but, you can look into this topic further at a later time if you're interested. For now, your task is the implement the methology described above, so stay focussed on doing just that.\n",
    "\n",
    "- That said, you may find it helpful to review another presentation of this material just to gain some additional comfort about generally what's going on as you begin diving into this problem. Here's a [13-minute youtube video](https://www.youtube.com/watch?v=fJ2EyvR85ro) presenting ***Randomized SVD*** upon which this problem is based. **Please mute your computer or use headphones if you play the video;** *and, don't forget about 1.5x and 2x video speeds to make your review of the video extra efficient.*"
   ]
  },
  {
   "cell_type": "markdown",
   "id": "645f9b9d",
   "metadata": {},
   "source": [
    "## Problem 1 Questions 0-2 (1.75 points)\n",
    "\n",
    "0. (0.25 points) Use `np.mean` and `np.std` (both with default values) to center and scale the columns of `X` \n",
    "\n",
    "    ```python\n",
    "X = sm.datasets.get_rdataset(\"mtcars\").data.values\n",
    "    ```\n",
    "\n",
    "    so that they have *mean* $0$ and *standard deviation* $1$ and assign this result to the variable `Xtilde`.\n",
    "    \n",
    "    ***WARNING:*** `_Xtilde = (_X - np.mean(_X))/np.std(_X)` ***DOES NOT*** accomplish this. Adjusting the above to include the `axis` parameter of `np.mean` and `np.std` with an appropriate setting would produce the correct result.\n",
    "    \n",
    "\n",
    "1. (0.5 points) Consider the ***condition number*** of `X` and `Xtilde` with `np.linalg.cond` and then use the imported `svd` function to visually compare the ***singular values*** of the ***SVD*** of `X` and `Xtilde` using `plt.plot(np.log(D),'.')` where  `D` is the `np.array` (one dimensional vector) of ***singular values*** returned by the `svd` function. Which of the following most accurately describes this comparison?\n",
    "\n",
    "    1. `X` has a better ***condition number*** than `Xtilde` because `X` has a more extreme/outlying ***singular value*** meaning centering and scaling isn't beneficial\n",
    "    2. `X` has a better ***condition number*** than `Xtilde` because `Xtilde` has a more extreme/outlying ***singular value*** meaning centering and scaling isn't beneficial\n",
    "    3. `X` has a worse ***condition number*** than `Xtilde` because `X` has a more extreme/outlying ***singular value*** meaning centering and scaling is beneficial\n",
    "    4. `X` has a worse ***condition number*** than `Xtilde` because `Xtilde` has a more extreme/outlying ***singular value*** meaning centering and scaling is beneficial\n",
    "    \n",
    "\n",
    "2. For the random `P` matrix below, complete steps 2-6 of the ***Randomized SVD*** procedure\n",
    "\n",
    "    ```python\n",
    "p,r = Xtilde.shape[1],5\n",
    "np.random.seed(10)\n",
    "P = stats.norm().rvs(size=(p,r))\n",
    "    ```\n",
    "\n",
    "    and assign the intermediate variables of the procedure to the corresponding variables `Z` (0.25 points), `Q` and `R` (0.25 points), `Y` (0.25 points), `U_Y`, `D_Y`, and `Vt_Y` (0.25 points).\n",
    "    \n",
    "***Hints:***\n",
    "- The first problem of centering and scaling the data is very important since all subsequent calculations depend on this being done correctly!\n",
    "- The `D` above is considered to be a one dimensional vector `np.array` which is what the `svd` function returns by default.\n",
    "- The same is generally true of `D_Y`; so, when actually computing the matrix multiplication steps you can convert this to a (two dimensional `np.array`) matrix using `np.diag(D_Y)`; or, you can use the broadcasting formulation of the necessary multiplications as has been emphasized in course homework. When assigning the `D_Y` object it may be saved as either the default one dimensional vector `np.array` format, or the two dimensional `np.array` matrix format.  The autotester will check the `shape` first to determine which format these are stored in, and then test them based on that.\n",
    "- Be mindful of the `full_matrices=[True|False]` argument of the `svd` function so that the dimension of the returned matrices is as prescribed by the ***Randomized SVD*** procedure."
   ]
  },
  {
   "cell_type": "code",
   "execution_count": null,
   "id": "b3adeef7",
   "metadata": {},
   "outputs": [],
   "source": []
  },
  {
   "cell_type": "code",
   "execution_count": 3,
   "id": "84b743b3",
   "metadata": {
    "deletable": false
   },
   "outputs": [],
   "source": [
    "X = sm.datasets.get_rdataset(\"mtcars\").data.values\n",
    "U,D,V = svd(X)\n",
    "\n",
    "# 0.25 points [format: same shape as `X` but with mean 0 and standard deviation 1 columns]\n",
    "Xtilde = (X - np.mean(X, axis = 0))/np.std(X, axis = 0)\n",
    "\n",
    "U_Xtilde,D_Xtilde,V_Xtilde = svd(Xtilde)\n",
    "# etc.\n",
    "\n",
    "# 0.5 points [format: `str` either \"A\" or \"B\" or \"C\" or \"D\" based on the choices above]\n",
    "p1q1 = \"C\"\n",
    "# Uncomment the above and keep each only either \"A\" or \"B\" or \"C\" or \"D\"\n",
    "\n",
    "# This cell will produce a runtime error until all variables are assigned values!"
   ]
  },
  {
   "cell_type": "code",
   "execution_count": 4,
   "id": "8656ba9a",
   "metadata": {},
   "outputs": [
    {
     "data": {
      "text/plain": [
       "<matplotlib.legend.Legend at 0x2749e069af0>"
      ]
     },
     "execution_count": 4,
     "metadata": {},
     "output_type": "execute_result"
    },
    {
     "data": {
      "image/png": "[encoded data removed]",
      "text/plain": [
       "<Figure size 640x480 with 1 Axes>"
      ]
     },
     "metadata": {},
     "output_type": "display_data"
    }
   ],
   "source": [
    "plt.plot(D,'.', label = \"X\")\n",
    "plt.plot(D_Xtilde,'.', label = \"Xtilde\")\n",
    "plt.legend()\n",
    "# Any used `D` variable must have been assigned a value to avoid a run time error!"
   ]
  },
  {
   "cell_type": "code",
   "execution_count": 5,
   "id": "8f9ba628",
   "metadata": {},
   "outputs": [],
   "source": [
    "# Cell for scratch work\n",
    "\n",
    "# You are welcome to add as many new cells into this notebook as you would like.\n",
    "# Just do not leave in a state that will produce a runtime errors when notebook cells are run sequentially.\n",
    "\n",
    "# Any cells included for scratch work that are no longer needed may be deleted so long as \n",
    "# - all the required functions are still defined and available when called\n",
    "# - no cells requiring variable assignments are deleted.\n",
    "\n",
    "# None of this will not cause problems with `cell ids` assuming your versioning supports `cell ids`\n",
    "# (as UofT JupyterHub, UofT JupyterLab, an Google Colab will).\n"
   ]
  },
  {
   "cell_type": "code",
   "execution_count": 6,
   "id": "200c7587",
   "metadata": {},
   "outputs": [],
   "source": [
    "# Cell for scratch work\n"
   ]
  },
  {
   "cell_type": "code",
   "execution_count": 7,
   "id": "21f475e6",
   "metadata": {
    "deletable": false
   },
   "outputs": [],
   "source": [
    "p,r = Xtilde.shape[1],5\n",
    "np.random.seed(10)\n",
    "P = stats.norm().rvs(size=(p,r))\n",
    "\n",
    "# 0.25 points each [format: matrix operations or results form appropriate function al calls]\n",
    "Z = Xtilde @ P\n",
    "Q, R = qr(Z)\n",
    "Y = Q.T @ Xtilde\n",
    "U_Y, D_Y, Vt_Y = svd(Y, full_matrices = False)\n",
    "\n",
    "# All variables must be assigned values to avoid run time errors!"
   ]
  },
  {
   "cell_type": "code",
   "execution_count": 8,
   "id": "d272eaac",
   "metadata": {},
   "outputs": [],
   "source": [
    "# Cell for scratch work\n",
    "\n",
    "# You are welcome to add as many new cells into this notebook as you would like.\n",
    "# Just do not leave in a state that will produce a runtime errors when notebook cells are run sequentially.\n",
    "\n",
    "# Any cells included for scratch work that are no longer needed may be deleted so long as \n",
    "# - all the required functions are still defined and available when called\n",
    "# - no cells requiring variable assignments are deleted.\n",
    "\n",
    "# None of this will not cause problems with `cell ids` assuming your versioning supports `cell ids`\n",
    "# (as UofT JupyterHub, UofT JupyterLab, an Google Colab will).\n"
   ]
  },
  {
   "cell_type": "code",
   "execution_count": 9,
   "id": "f7ef5f04",
   "metadata": {},
   "outputs": [],
   "source": [
    "# Cell for scratch work"
   ]
  },
  {
   "cell_type": "markdown",
   "id": "84105028",
   "metadata": {},
   "source": [
    "## Problem 1 Question 3 (0.25 points)\n",
    "\n",
    "The figures below can be used to see how well the ***Randomized SVD*** procedure can recover `X` and the ***singular values*** for \n",
    "\n",
    "```python\n",
    "p,r = Xtilde.shape[1],5\n",
    "np.random.seed(10)\n",
    "P = stats.norm().rvs(size=(p,r))\n",
    "```\n",
    "\n",
    "3. (0.25 points) Which of the following is the smallest ratio of `r` to `p` for which `np.abs(Xtilde-((Q@U_Y)*D_Y)@Vt_Y).sum()/np.abs(Xtilde).sum()` is less than 0.2?\n",
    "\n",
    "    1. 5/11\n",
    "    2. 6/11\n",
    "    3. 7/11\n",
    "    4. 8/11"
   ]
  },
  {
   "cell_type": "code",
   "execution_count": 10,
   "id": "1ff1cb2a",
   "metadata": {
    "deletable": false
   },
   "outputs": [],
   "source": [
    "# 0.25 points [format: `str` either \"A\" or \"B\" or \"C\" or \"D\" based on the choices above]\n",
    "p1q3 = \"D\"\n",
    "# Uncomment the above and keep each only either \"A\" or \"B\" or \"C\" or \"D\"\n",
    "\n",
    "# This cell will produce a runtime error until the `p1q3` variable is assigned a value"
   ]
  },
  {
   "cell_type": "code",
   "execution_count": 11,
   "id": "1671af64",
   "metadata": {},
   "outputs": [
    {
     "data": {
      "text/plain": [
       "0.3408415286090977"
      ]
     },
     "execution_count": 11,
     "metadata": {},
     "output_type": "execute_result"
    },
    {
     "data": {
      "image/png": "[encoded data removed]",
      "text/plain": [
       "<Figure size 1150x500 with 2 Axes>"
      ]
     },
     "metadata": {},
     "output_type": "display_data"
    },
    {
     "data": {
      "image/png": "[encoded data removed]",
      "text/plain": [
       "<Figure size 500x500 with 3 Axes>"
      ]
     },
     "metadata": {},
     "output_type": "display_data"
    }
   ],
   "source": [
    "fig,ax = plt.subplots(1,2,figsize=(11.5,5))\n",
    "ax[0].plot([0,1],[0,1])\n",
    "ax[0].plot(D[:r]/D[:r].max(),D_Y/D_Y.max(),'.'); ax[0].set_title(\"Standardized Singular Values\")\n",
    "ax[1].plot(Xtilde.ravel(), (((Q@U_Y)*D_Y)@Vt_Y).ravel(),'.'); ax[1].set_title(\"X Versus Reconstituted X Values\")\n",
    "\n",
    "fig,ax = plt.subplots(1,2,figsize=(5,5))\n",
    "fig.subplots_adjust(right=0.8)\n",
    "im = ax[0].imshow(Xtilde, cmap='PiYG', vmax=np.abs(Xtilde).max(), vmin=-np.abs(Xtilde).max()); ax[0].set_title(\"X\")\n",
    "ax[1].imshow(Xtilde-(((Q@U_Y)*D_Y)@Vt_Y), cmap='PiYG', vmax=np.abs(Xtilde).max(), vmin=-np.abs(Xtilde).max())\n",
    "cbar_ax = fig.add_axes([0.85, 0.15, 0.05, 0.7]); ax[1].set_title(\"X Residuals\")\n",
    "fig.colorbar(im, cax=cbar_ax)\n",
    "\n",
    "np.abs(Xtilde-((Q@U_Y)*D_Y)@Vt_Y).sum()/np.abs(Xtilde).sum()"
   ]
  },
  {
   "cell_type": "code",
   "execution_count": 12,
   "id": "f967bcd4",
   "metadata": {},
   "outputs": [],
   "source": [
    "# Cell for scratch work\n",
    "\n",
    "# You are welcome to add as many new cells into this notebook as you would like.\n",
    "# Just don't have scratch work cells with runtime errors because \n",
    "# notebook cells are run sequentially for automated code testing.\n",
    "\n",
    "# Any cells included for scratch work that are no longer needed may be deleted so long as \n",
    "# - all the required functions are still defined and available when called\n",
    "# - no cells requiring variable assignments are deleted \n",
    "#    - as this causes their `cell ids` to be lost, but these `cell-ids` are required for automated code testing.\n"
   ]
  },
  {
   "cell_type": "code",
   "execution_count": 13,
   "id": "2d0d8572",
   "metadata": {},
   "outputs": [],
   "source": [
    "# Cell for scratch work\n"
   ]
  },
  {
   "cell_type": "markdown",
   "id": "9971f0b1",
   "metadata": {},
   "source": [
    "## Problem 1 Questions 4-5 (1 point)\n",
    "\n",
    "Center and scale the columns of the new data\n",
    "\n",
    "```python\n",
    "from sklearn.datasets import fetch_olivetti_faces\n",
    "X, _ = fetch_olivetti_faces(return_X_y=True, shuffle=True, random_state=10, data_home=os.getcwd()+'/scikit_learn_data')\n",
    "```\n",
    "\n",
    "and assign this data into a new `Xtilde`. Then consider various choices for `r` for the ***Randomized SVD*** procedure in the same manner as above based on\n",
    "\n",
    "```python\n",
    "p,r = Xtilde.shape[1],5\n",
    "np.random.seed(10)\n",
    "P = stats.norm().rvs(size=(p,r))\n",
    "```\n",
    "\n",
    "4. (0.5 points) Which of the following is the smallest ratio of `r` to `p` for which `np.abs(Xtilde-((Q@U_Y)*D_Y)@Vt_Y).sum()/np.abs(Xtilde).sum()` is less than 0.2?\n",
    "\n",
    "    1. 100/400\n",
    "    2. 200/400\n",
    "    3. 300/4096\n",
    "    4. 400/4096\n",
    "    \n",
    "    \n",
    "5. (0.5 points) Which of the two data sets does the ***Randomized SVD*** procedure provide the most computational benefit for?\n",
    "\n",
    "    1. The `statsmodels` `mtcars` data since the ***SVD*** can be recovered at the 0.2 threshold with the smallest `r`\n",
    "    2. The `sklearn` `fetch_olivetti_faces` data since the ***SVD*** can be recovered at the 0.2 threshold for `r` a small fraction of `p`\n",
    "    3. The `sklearn` `fetch_olivetti_faces` data since `n` > `p` for this data set\n",
    "    4. The `statsmodels` `mtcars` data since it is a smaller data set"
   ]
  },
  {
   "cell_type": "code",
   "execution_count": 14,
   "id": "00e7928c",
   "metadata": {},
   "outputs": [
    {
     "data": {
      "text/plain": [
       "0.1299983232083886"
      ]
     },
     "execution_count": 14,
     "metadata": {},
     "output_type": "execute_result"
    }
   ],
   "source": [
    "# Cell for scratch work\n",
    "\n",
    "# You are welcome to add as many new cells into this notebook as you would like.\n",
    "# Just don't have scratch work cells with runtime errors because \n",
    "# notebook cells are run sequentially for automated code testing.\n",
    "\n",
    "# Any cells included for scratch work that are no longer needed may be deleted so long as \n",
    "# - all the required functions are still defined and available when called\n",
    "# - no cells requiring variable assignments are deleted \n",
    "#    - as this causes their `cell ids` to be lost, but these `cell-ids` are required for automated code testing.\n",
    "from sklearn.datasets import fetch_olivetti_faces\n",
    "X, _ = fetch_olivetti_faces(return_X_y=True, shuffle=True, random_state=10, data_home=os.getcwd()+'/scikit_learn_data')\n",
    "Xtilde = (X - np.mean(X, axis = 0))/np.std(X, axis = 0)\n",
    "Xtilde = Xtilde.T\n",
    "\n",
    "p,r = Xtilde.shape[1],300\n",
    "np.random.seed(10)\n",
    "P = stats.norm().rvs(size=(p,r))\n",
    "\n",
    "Z = Xtilde @ P\n",
    "Q, R = qr(Z)\n",
    "Y = Q.T @ Xtilde\n",
    "U_Y, D_Y, Vt_Y = svd(Y, full_matrices = False)\n",
    "\n",
    "np.abs(Xtilde-((Q@U_Y)*D_Y)@Vt_Y).sum()/np.abs(Xtilde).sum()"
   ]
  },
  {
   "cell_type": "code",
   "execution_count": 15,
   "id": "f4ff6590",
   "metadata": {},
   "outputs": [],
   "source": [
    "# Cell for scratch work\n"
   ]
  },
  {
   "cell_type": "code",
   "execution_count": 16,
   "id": "cdee63bc",
   "metadata": {},
   "outputs": [],
   "source": [
    "# 0.5 points each [format: `str` either \"A\" or \"B\" or \"C\" or \"D\" based on the choices above]\n",
    "p1q4 = \"C\" \n",
    "p1q5 = \"B\"\n",
    "\n",
    "# Uncomment the above and keep each only either \"A\" or \"B\" or \"C\" or \"D\"\n",
    "\n",
    "# This cell will produce a runtime error until the `p1q4` and `p1q5` variable are assigned values"
   ]
  },
  {
   "cell_type": "markdown",
   "id": "e1d82317",
   "metadata": {},
   "source": [
    "## Problem 1 Question 6-7 (1 point)\n",
    "\n",
    "6. (0.5 points) Assuming $r<p<n$, what is the ***Big O computational complexity*** of the ***Randomized SVD*** procedure (without computing `((Q@U_Y)*D_Y)@Vt_Y` $\\approx$ `X`)?\n",
    "\n",
    "    1. $O(pr^2)$    \n",
    "    2. $O(nr^2)$\n",
    "    3. $O(npr)$\n",
    "    4. $O(np^2)$\n",
    "    \n",
    "    \n",
    "7. Will computing the ***Randomized SVD*** will be faster than computing ***SVD***? \n",
    "\n",
    "    1. Yes, if the ***Big $O$ computational complexity*** of ***Randomized SVD*** is less than ***SVD***\n",
    "    2. It will depend on the data set\n",
    "    3. Yes, becaues it avoids doing any ***SVD*** computations and instead only does ***QR*** ***decompositions***\n",
    "    4. Yes, because $O(pr^2)<O(np^2)$\n",
    "    \n",
    "\n",
    "***Hint:*** Review the problem prompt and determine the ***Big $O$ Complexity*** of each of the steps of the ***randomized SVD*** procedure."
   ]
  },
  {
   "cell_type": "code",
   "execution_count": 17,
   "id": "adead5c1",
   "metadata": {
    "deletable": false
   },
   "outputs": [],
   "source": [
    "# 0.5 points each [format: `str` either \"A\" or \"B\" or \"C\" or \"D\" based on the choices above]\n",
    "p1q6 = \"A\"\n",
    "p1q7 = \"D\" \n",
    "\n",
    "# Uncomment the above and keep each only either \"A\" or \"B\" or \"C\" or \"D\"\n",
    "\n",
    "# This cell will produce a runtime error until the `p1q6` and `p1q7` variable are assigned values"
   ]
  },
  {
   "cell_type": "markdown",
   "id": "78630575",
   "metadata": {},
   "source": [
    "## Problem 1 Question 8-9 (1 point)\n",
    "\n",
    "8. (0.5 points) For $r<p$, what is true about $QU_YD_YVt_Y$ and $X$?\n",
    "\n",
    "    1. $QU_YD_YVt_Y$ has a larger or undefined ***condition number***\n",
    "    2. $X$ has a larger ***condition number***\n",
    "    3. $X$ and $QU_YD_YVt_Y$ have the same ***condition number***\n",
    "    4. Both are ***full rank*** (***non-singular***) matrices\n",
    "    \n",
    "    \n",
    "9. What is true about the theoretical ***condition number*** of $Q$ and $U_Y$?\n",
    "\n",
    "    1. $Q$ has a larger ***condition number*** than $U_Y$ because $Q$ is from a ***QR decomposition***\n",
    "    2. $U_Y$ has a larger ***condition number*** than $Q$ because $U_Y$ is from an ***SVD***\n",
    "    3. $Q$ and $U_Y$ have different ***condition numbers*** because $Z_{n\\times r}$ and $Y_{r\\times p}$ have different ranks\n",
    "    4. Unless $X$ is ***orthogonal***, $Q$ and $U_Y$ will have a smaller ***condition number*** than $X$\n"
   ]
  },
  {
   "cell_type": "code",
   "execution_count": 18,
   "id": "bbd4ad00",
   "metadata": {
    "deletable": false
   },
   "outputs": [],
   "source": [
    "# 0.5 points each [format: `str` either \"A\" or \"B\" or \"C\" or \"D\" based on the choices above]\n",
    "p1q8 = \"A\"\n",
    "p1q9 = \"D\"\n",
    "\n",
    "# Uncomment the above and keep each only either \"A\" or \"B\" or \"C\" or \"D\"\n",
    "\n",
    "# This cell will produce a runtime error until the `p1q8` and `p1q9` variable are assigned values"
   ]
  },
  {
   "cell_type": "markdown",
   "id": "50a58a78",
   "metadata": {},
   "source": [
    "## Problem 1 Bonus Question 10 (0.5 points) [but maximium points on Problem 1 is still 5]\n",
    "\n",
    "10. Use the ***Gram-Schmidt orthogonalization method*** provided below to create a ***QR decomposition*** for `X` defined as follows.\n",
    "\n",
    "```python\n",
    "np.random.seed(10); n,p = 100,10\n",
    "X = stats.norm.rvs(size=(n,p))\n",
    "```\n",
    "\n",
    "Let $Q$ be the ***Gram-Schmidt orthogonalization*** of $X$; then, $R$ is ***upper triangular matrix*** such that $QR=X$. You may not use the imported `qr` function to compute $Q$ and $R$; but, you can use it to check your results.\n",
    "\n",
    "***Hints:*** \n",
    "- The imported `solve` function will not work becuase it only works for ***square*** `A` in `solve(A,b)`; but, `np.linalg.lstsq` will work for ***square*** and even ***non-full rank*** `A` though of course we expect `Q` to be ***full rank***.\n",
    "- Use `np.round(qr(X)[1],2)` to see what `R` should look like.\n",
    "- This problem requires essentially no coding, and instead just using `gram_schmidt` and `np.linalg.lstsq` correctly."
   ]
  },
  {
   "cell_type": "code",
   "execution_count": 19,
   "id": "1da45f5d",
   "metadata": {
    "deletable": false
   },
   "outputs": [],
   "source": [
    "def is_linearly_independent_columns(X):\n",
    "    # return False if Rank(X)<p or n<p; otherwise, True\n",
    "    if X.shape[1] <= X.shape[0] and np.linalg.matrix_rank(X) == X.shape[1]:\n",
    "        return True\n",
    "\n",
    "def gram_schmidt(X):\n",
    "    \n",
    "    \"\"\"\n",
    "    X       : n linearly independent column vectors\n",
    "              (np.array) [X[:,0], X[:,1], ... , X[:,p-1]]), X.shape=(n,p)\n",
    "              or raises a \"Linearly Dependent Columns\" ValueError if Rank < p or Rank > n   \n",
    "    returns : n orthonormalized column vectors, \n",
    "              (np.array) [Xtilde[:,0], Xtilde[:,1], ... , Xtilde[:,p-1]], Xtilde.shape=(n,p)\n",
    "    \"\"\"\n",
    "    \n",
    "    if not is_linearly_independent_columns(X):\n",
    "        raise ValueError('Linearly Dependent Columns')\n",
    "\n",
    "    # make sure the data type is float not int which won't work\n",
    "    X = np.array(X, dtype=float)# X=np.array([[1,1],[1,2]]); X[:,0] = np.array([0.5,.5])\n",
    "    \n",
    "    Xtilde = X.copy()\n",
    "    \n",
    "    Xtilde[:,0] = X[:,0]/X[:,0].dot(X[:,0])**0.5\n",
    "    for l in range(1, X.shape[1]):\n",
    "        for j in range(l, X.shape[1]):\n",
    "            Xtilde[:,j] = Xtilde[:,j] - Xtilde[:,l-1]*(Xtilde[:,j].dot(Xtilde[:,l-1]))\n",
    "        Xtilde[:,l] = Xtilde[:,l]/Xtilde[:,l].dot(Xtilde[:,l])**0.5\n",
    "    return Xtilde"
   ]
  },
  {
   "cell_type": "code",
   "execution_count": 20,
   "id": "616df4c2",
   "metadata": {
    "deletable": false
   },
   "outputs": [],
   "source": [
    "# 1 point [format: np.array matrix]\n",
    "#p1q10 = #R\n",
    "# Uncomment the above to assign R to p1q10\n",
    "\n",
    "# This cell will produce a runtime error until the `p1q10` variable is assigned a value"
   ]
  },
  {
   "cell_type": "code",
   "execution_count": 21,
   "id": "918ef758",
   "metadata": {},
   "outputs": [],
   "source": [
    "# Cell for scratch work\n",
    "\n",
    "# You are welcome to add as many new cells into this notebook as you would like.\n",
    "# Just do not leave in a state that will produce a runtime errors when notebook cells are run sequentially.\n",
    "\n",
    "# Any cells included for scratch work that are no longer needed may be deleted so long as \n",
    "# - all the required functions are still defined and available when called\n",
    "# - no cells requiring variable assignments are deleted.\n",
    "\n",
    "# None of this will not cause problems with `cell ids` assuming your versioning supports `cell ids`\n",
    "# (as UofT JupyterHub, UofT JupyterLab, an Google Colab will).\n"
   ]
  },
  {
   "cell_type": "code",
   "execution_count": 22,
   "id": "f0e0ce3a",
   "metadata": {},
   "outputs": [],
   "source": [
    "# Cell for scratch work"
   ]
  },
  {
   "cell_type": "markdown",
   "id": "91d96b6d",
   "metadata": {},
   "source": [
    "# Problem 2 (5 points)\n",
    "\n",
    "***Lasso regression*** and ***Ridge regression*** are predictive modeling (machine learning) techniques that incorporate shrinkage regularization into ***linear model regression*** by using the ***penalized least squares*** objective functions with $\\lambda>0$\n",
    "\n",
    "$$\\underset{\\text{Lasso Regression $L_1$ coefficient penalty}}{\\underline{\\min_{\\beta|\\lambda} \\sum_i (y_i-x_i^T \\beta)^2 + \\lambda \\sum_k |\\beta_k|}}\\quad\\quad \\underset{\\text{Ridge Regression $L_2^2$ coefficient penalty}}{\\underline{\\min_{\\beta|\\lambda} \\sum_i (y_i-x_i^T \\beta)^2 + \\lambda \\beta^T\\beta}}$$\n",
    "\n",
    "Focussing on ***Lasso Regression***, the objective function is ***convex*** (because the sum of two ***convex*** functions is ***convex***), and specifically ***separablely convex*** because it's of the form \n",
    "\n",
    "$$g(\\beta) + \\sum_{k=0}^K g_k(\\beta_k)$$\n",
    "\n",
    "where $g$ is ***differentiable*** everywhere and each $g_k$ is ***convex***. When a function is ***separablely convex*** then it can be optimized by ***coordinate descent***. \n",
    "\n",
    "***Hint***: This problem will take you through the algorithm for fitting the coefficients of a ***Lasso Regression***. This algorithm is also presented in Keith Knight's [notes16.pdf](https://q.utoronto.ca/courses/296804/files?preview=24796876) document if you'd like to review another presentation of this material."
   ]
  },
  {
   "cell_type": "markdown",
   "id": "1432c613",
   "metadata": {},
   "source": [
    "## Problem 2 Question 0 (0.25 points)\n",
    "\n",
    "0. (0.25 points) Suppose the data is standardized such that $\\bar y = 0$ and each column is centered so that $\\bar X_{\\cdot j}=0$ and scaled so that $\\frac{X_{\\cdot j}^TX_{\\cdot j}}{n}=1$. Of the options below, which is the simplest expression of the objective function for $\\beta_{j}$\n",
    "\n",
    "  $$(y-X_{\\cdot -j}\\beta_{-j} - X_{\\cdot j}\\beta_{j})^T(y-X_{\\cdot -j}\\beta_{-j} - X_{\\cdot j}\\beta_{j}) + \\lambda |\\beta_{j}|$$\n",
    "\n",
    "  that could be used to optimize for $\\beta_{j}$?\n",
    "\n",
    "  1. $n\\beta_j^2 - 2\\beta_j \\sum_i \\left( y_i - \\sum_{k\\neq j} x_{ik}\\beta_k \\right) + (y-X_{\\cdot -j}\\beta_{-j})^T(y-X_{\\cdot -j}\\beta_{-j}) + \\lambda |\\beta_{j}|$\n",
    "  2. $n\\beta_j^2 - 2\\beta_j \\sum_i \\left( y_i - \\sum_{k\\neq j} x_{ik}\\beta_k \\right) + (y-X_{\\cdot -j}\\beta_{-j})^T(y-X_{\\cdot -j}\\beta_{-j})$\n",
    "  3. $n\\beta_j^2 - 2\\beta_j \\sum_i \\left( y_i - \\sum_{k\\neq j} x_{ik}\\beta_k \\right) + \\lambda |\\beta_{j}|$\n",
    "  4. $n\\beta_j^2 - 2\\beta_j \\sum_i \\left( y_i - \\sum_{k\\neq j} x_{ik}\\beta_k \\right)$"
   ]
  },
  {
   "cell_type": "code",
   "execution_count": 23,
   "id": "c410fb7f",
   "metadata": {
    "deletable": false
   },
   "outputs": [],
   "source": [
    "# 0.25 points [format: `str` either \"A\" or \"B\" or \"C\" or \"D\" based on the choices above]\n",
    "p2q0 = \"C\" \n",
    "# Uncomment the above and keep each only either \"A\" or \"B\" or \"C\" or \"D\"\n",
    "\n",
    "# This cell will produce a runtime error until the `p2q0` variable has been assigned a value"
   ]
  },
  {
   "cell_type": "markdown",
   "id": "95d12287",
   "metadata": {},
   "source": [
    "## Problem 2 Question 1 (0.5 point)\n",
    "\n",
    "1. For $\\lambda>0$, which of the following conditions for $\\phi_j = \\sum_i \\left( y_i - \\sum_{k\\neq j} x_{ik}\\beta_k \\right)$ could not lead to negative values for the following?\n",
    "\n",
    "  $$- 2\\beta_j \\sum_i \\left( y_i - \\sum_{k\\neq j} x_{ik}\\beta_k \\right) + \\lambda |\\beta_{j}|$$\n",
    "\n",
    "  1. $\\phi_j > \\frac{\\lambda}{2}$\n",
    "  2. $\\phi_j < -\\frac{\\lambda}{2}$\n",
    "  3. $\\phi_j \\in \\left[ - \\frac{\\lambda}{2}, \\frac{\\lambda}{2}\\right]$\n",
    "  4. None of the above"
   ]
  },
  {
   "cell_type": "code",
   "execution_count": 24,
   "id": "87761c0b",
   "metadata": {
    "deletable": false
   },
   "outputs": [],
   "source": [
    "# 0.5 points [format: `str` either \"A\" or \"B\" or \"C\" or \"D\" based on the choices above]\n",
    "p2q1 = \"A\"\n",
    "# Uncomment the above and keep each only either \"A\" or \"B\" or \"C\" or \"D\"\n",
    "\n",
    "# This cell will produce a runtime error until the `p2q1` variable has been assigned a value"
   ]
  },
  {
   "cell_type": "markdown",
   "id": "14ddbf14",
   "metadata": {},
   "source": [
    "## Problem 2 Question 2 (0.25 point)\n",
    "\n",
    "3. The previous problem demonstrates that for $|\\beta_{j}|>0$ the function\n",
    "\n",
    "  $$n\\beta_j^2 - 2\\beta_j \\sum_i \\left( y_i - \\sum_{k\\neq j} x_{ik}\\beta_k \\right) + \\lambda |\\beta_{j}|$$\n",
    "\n",
    "  is positive if $\\phi_j = \\sum_i \\left( y_i - \\sum_{k\\neq j} x_{ik}\\beta_k \\right) \\in \\left[ - \\frac{\\lambda}{2}, \\frac{\\lambda}{2}\\right]$. What value of $\\beta_{j}$ then would minimize this function when $\\phi_j \\in \\left[ - \\frac{\\lambda}{2}, \\frac{\\lambda}{2}\\right]$?\n",
    "\n",
    "  1. $\\beta_j=0$\n",
    "  2. Some $\\beta_j>0$\n",
    "  3. Some $\\beta_j<0$\n",
    "  4. None of the above"
   ]
  },
  {
   "cell_type": "code",
   "execution_count": 25,
   "id": "7b1d682d",
   "metadata": {
    "deletable": false
   },
   "outputs": [],
   "source": [
    "# 0.25 points [format: `str` either \"A\" or \"B\" or \"C\" or \"D\" based on the choices above]\n",
    "p2q2 = \"A\"\n",
    "# Uncomment the above and keep each only either \"A\" or \"B\" or \"C\" or \"D\"\n",
    "\n",
    "# This cell will produce a runtime error until the `p2q3` variable has been assigned a value"
   ]
  },
  {
   "cell_type": "markdown",
   "id": "d4f7b2ff",
   "metadata": {},
   "source": [
    "## Problem 2 Question 3 (0.25 point)\n",
    "\n",
    "2. Suppose $\\beta_j \\times \\epsilon > 0$ for $\\epsilon>0$. Can $n\\beta_j^2 - \\beta_j \\times \\epsilon$ be negative for some value of $\\beta_j$?\n",
    "\n",
    "  1. Yes\n",
    "  2. No\n",
    "  3. I don't know\n",
    "  4. None of the above"
   ]
  },
  {
   "cell_type": "code",
   "execution_count": 26,
   "id": "03a1ffbd",
   "metadata": {
    "deletable": false
   },
   "outputs": [],
   "source": [
    "# 0.25 points [format: `str` either \"A\" or \"B\" or \"C\" or \"D\" based on the choices above]\n",
    "p2q3 = \"B\"\n",
    "# Uncomment the above and keep each only either \"A\" or \"B\" or \"C\" or \"D\"\n",
    "\n",
    "# This cell will produce a runtime error until the `p2q2` variable has been assigned a value"
   ]
  },
  {
   "cell_type": "markdown",
   "id": "a5a69c20",
   "metadata": {},
   "source": [
    "## Problem 2 Question 4 (0.25 points)\n",
    "\n",
    "4. The last problem demonstrates that the first two terms of the function  \n",
    "\n",
    "  $$n\\beta_j^2 - 2\\beta_j \\sum_i \\left( y_i - \\sum_{k\\neq j} x_{ik}\\beta_k \\right) + \\lambda |\\beta_{j}|$$\n",
    "\n",
    "  can be negative, while a previous problem demonstrated that the second two terms will be negative if $\\phi_j = \\sum_i \\left( y_i - \\sum_{k\\neq j} x_{ik}\\beta_k \\right) \\not \\in \\left[ - \\frac{\\lambda}{2}, \\frac{\\lambda}{2}\\right]$. What value for $\\beta_j$ minimizes this function in that case?\n",
    "\n",
    "\n",
    "  1. $\\beta_j=0$\n",
    "  2. $\\beta_j = \\frac{1}{n}(y - X_{\\cdot -j} \\beta_{-j})^TX_{\\cdot j}$\n",
    "  3. $\\beta_j = \\frac{1}{n} \\left[ (y - X_{\\cdot -j} \\beta_{-j})^TX_{\\cdot j} - \\frac{1}{2} \\lambda \\times \\text{sign}(\\beta_{j}) \\right]$\n",
    "  4. None of the above"
   ]
  },
  {
   "cell_type": "code",
   "execution_count": 27,
   "id": "1ac0fa3c",
   "metadata": {
    "deletable": false
   },
   "outputs": [],
   "source": [
    "# 0.25 points [format: `str` either \"A\" or \"B\" or \"C\" or \"D\" based on the choices above]\n",
    "p2q4 = \"C\"\n",
    "# Uncomment the above and keep each only either \"A\" or \"B\" or \"C\" or \"D\"\n",
    "\n",
    "# This cell will produce a runtime error until the `p2q4` variable has been assigned a value"
   ]
  },
  {
   "cell_type": "markdown",
   "id": "ff01358c",
   "metadata": {},
   "source": [
    "## Problem 2 Question 5 (2 points)\n",
    "\n",
    "5. Define the function `fit_lasso(X,y,beta0,regularization_lambda,epsilon)` which, for a given $\\lambda$, computes the ***lasso regression*** coefficients which optimize the function \n",
    "\n",
    "  $$\\min_{\\beta|\\lambda} \\sum_i (y_i-x_i^T \\beta)^2 + \\lambda \\sum_k |\\beta_k|$$\n",
    "  \n",
    "\n",
    "  \n",
    "- Your `fit_lasso` function will be tested directly -- you don't need to assign any other variables for this problem.\n",
    "  \n",
    "***Hints***:\n",
    "- `np.c_` concatenates columns together\n",
    "- `np.r_` concatenates rows together\n",
    "- `np.sign()`, `np.abs()`, and `np.all(beta0==0)` would likely be useful\n"
   ]
  },
  {
   "cell_type": "code",
   "execution_count": 28,
   "id": "27422811",
   "metadata": {},
   "outputs": [],
   "source": [
    "def fit_lasso(X,y,beta0,regularization_lambda,epsilon):\n",
    "    '''\n",
    "    Lasso Regression fitting using [method name/description?]\n",
    "    \n",
    "    X (np.array): X.shape=(n,p) with mean 0 standard deviation 1 columns\n",
    "    y (np.array): y.shape=(n,1) as mean 0 column\n",
    "    beta0 (np.array): p by 1 initial value\n",
    "    regularization_lambda (float): >0\n",
    "                           The larger this value the greater the regularization\n",
    "    epsilon (float): (beta_k-beta_{k-1}).T.dot(beta_k-beta_{k-1}) <= epsilon\n",
    "                     will trigger early stopping and return beta_k\n",
    "                           \n",
    "    returns Lasso regression beta-hat of yhat = X beta-hat\n",
    "    '''\n",
    "    pass"
   ]
  },
  {
   "cell_type": "code",
   "execution_count": 29,
   "id": "db3386d6",
   "metadata": {},
   "outputs": [
    {
     "data": {
      "text/plain": [
       "array([[-0.19588953],\n",
       "       [ 1.626723  ],\n",
       "       [-1.44967936],\n",
       "       [ 0.4142235 ],\n",
       "       [-3.57801491],\n",
       "       [ 1.444047  ],\n",
       "       [ 0.15763526],\n",
       "       [ 1.23776483],\n",
       "       [ 0.47595069],\n",
       "       [-0.31702919]])"
      ]
     },
     "execution_count": 29,
     "metadata": {},
     "output_type": "execute_result"
    }
   ],
   "source": [
    "mtcars = sm.datasets.get_rdataset(\"mtcars\")\n",
    "y = mtcars.data[['mpg']].values\n",
    "y = y-y.mean()\n",
    "X = mtcars.data[['cyl', 'disp', 'hp', 'drat', 'wt', 'qsec', 'vs', 'am', 'gear','carb']].values\n",
    "X = (X-X.mean(axis=0)) \n",
    "X = X / (X**2).mean(axis=0)**0.5\n",
    "model = sm.OLS(y,X); results = model.fit()\n",
    "beta0 = results.summary2().tables[1].values[:,:1]\n",
    "beta0"
   ]
  },
  {
   "cell_type": "code",
   "execution_count": 30,
   "id": "6d0b84c3",
   "metadata": {},
   "outputs": [],
   "source": [
    "# Cell for scratch work\n",
    "\n",
    "# You are welcome to add as many new cells into this notebook as you would like.\n",
    "# Just do not leave in a state that will produce a runtime errors when notebook cells are run sequentially.\n",
    "\n",
    "# Any cells included for scratch work that are no longer needed may be deleted so long as \n",
    "# - all the required functions are still defined and available when called\n",
    "# - no cells requiring variable assignments are deleted.\n",
    "\n",
    "# None of this will not cause problems with `cell ids` assuming your versioning supports `cell ids`\n",
    "# (as UofT JupyterHub, UofT JupyterLab, an Google Colab will).\n"
   ]
  },
  {
   "cell_type": "code",
   "execution_count": 31,
   "id": "4f3e25ec",
   "metadata": {},
   "outputs": [],
   "source": [
    "# Cell for scratch work"
   ]
  },
  {
   "cell_type": "markdown",
   "id": "587447ee",
   "metadata": {},
   "source": [
    "## Problem 2 Question 6 (1 point)\n",
    "\n",
    "5. Define the function `get_lasso_betas(regularization_lambdas)` which calls `fit_lasso` sequentially for each value in the (increasing) `regularization_lambdas`, where the first `beta0` is the an unregularized least squares regression fit and the subsequent initializations are the previous fit just returned from the last `fit_lasso` function call.\n",
    "\n",
    "- Your `get_lasso_beta_trajectories` function will be tested directly -- you don't need to assign any other variables for this problem.\n"
   ]
  },
  {
   "cell_type": "code",
   "execution_count": 32,
   "id": "20103be6",
   "metadata": {},
   "outputs": [],
   "source": [
    "def get_lasso_beta_trajectories(X,y,regularization_lambdas):\n",
    "    '''\n",
    "    Lasso Regularization fits across regulation parameters\n",
    "    \n",
    "    X (np.array): X.shape=(n,p) with mean 0 standard deviation 1 columns\n",
    "    y (np.array): y.shape=(n,1) as mean 0 column\n",
    "    regularization_lambdas (np.array): regularization_lambdas.shape=(k,)\n",
    "        regularization_lambdas should be increasing\n",
    "        where 0 indicates no regulation and beta-hat is 0 for asomelarge number\n",
    "    \n",
    "    returns (np.array) betas with betas.shape=(p,k+1) which are the Lasso fits\n",
    "        across the regularization_lambdas fit from least to most regularization\n",
    "    '''\n",
    "    \n",
    "    model = sm.OLS(y,X); results = model.fit()\n",
    "    beta0 = results.summary2().tables[1].values[:,:1]\n",
    "    betas = np.zeros((X.shape[1],1+len(regularization_lambdas)))\n",
    "    betas[:,:1] = beta0.copy()\n",
    "    \n",
    "    # complete\n",
    "    pass"
   ]
  },
  {
   "cell_type": "code",
   "execution_count": 33,
   "id": "7f9d4a98",
   "metadata": {},
   "outputs": [],
   "source": [
    "# Cell for scratch work\n",
    "\n",
    "# You are welcome to add as many new cells into this notebook as you would like.\n",
    "# Just do not leave in a state that will produce a runtime errors when notebook cells are run sequentially.\n",
    "\n",
    "# Any cells included for scratch work that are no longer needed may be deleted so long as \n",
    "# - all the required functions are still defined and available when called\n",
    "# - no cells requiring variable assignments are deleted.\n",
    "\n",
    "# None of this will not cause problems with `cell ids` assuming your versioning supports `cell ids`\n",
    "# (as UofT JupyterHub, UofT JupyterLab, an Google Colab will).\n"
   ]
  },
  {
   "cell_type": "code",
   "execution_count": 34,
   "id": "d2bd243a",
   "metadata": {},
   "outputs": [],
   "source": [
    "# Cell for scratch work\n"
   ]
  },
  {
   "cell_type": "code",
   "execution_count": 35,
   "id": "7ec617b1",
   "metadata": {},
   "outputs": [],
   "source": [
    "#fig,ax = plt.subplots(1,2,figsize=(10,5))\n",
    "#\n",
    "#lambdas = np.linspace(10**-3,3,20)\n",
    "#print(lambdas)\n",
    "#betas = get_lasso_beta_trajectories(X,y,lambdas)\n",
    "#for i in range(betas.shape[0]):\n",
    "#    ax[0].plot(np.concatenate([np.array([0.]),lambdas],axis=0), betas[i,:])\n",
    "#    \n",
    "#lambdas = np.logspace(-8,2,20,base=2)\n",
    "#print(lambdas)\n",
    "#betas = get_lasso_beta_trajectories(X,y,lambdas)\n",
    "#for i in range(betas.shape[0]):\n",
    "#    ax[1].plot(np.concatenate([np.array([0.]),lambdas],axis=0), betas[i,:])"
   ]
  },
  {
   "cell_type": "markdown",
   "id": "0f39013e",
   "metadata": {},
   "source": [
    "## Problem 2 Questions 7-8 (0.5 points)\n",
    "\n",
    "7. (0.25 points) Why should the previous lasso regression fit be used as the initial value for the next lasso regression fit with the incrementally increased `regularization_lambda` value? \n",
    "\n",
    "    1. Just for convenience, since it was just calculated\n",
    "    2. So the initial linear regression fit without regularization doesn't need to be recomputed\n",
    "    3. Because we would expect the fit of this next lasso penalized fit to be similar to the last\n",
    "    4. It probably shouldn't since any other initalization would be just as good\n",
    "\n",
    "\n",
    "8. (0.25 points) For centered and scaled $X$ as above, and an additional assumption of ***orthogonality*** in the columns of $X$, the ***Ridge regression*** solution can be shown to be \n",
    "\n",
    "  $$ \\hat \\beta_j^{ridge} =   \\frac{n}{n+\\lambda} \\hat \\beta_j^{LS} $$\n",
    "  \n",
    "  for $\\hat \\beta_j^{LS}$ equal to the $j$ coeficient of the least squares estimate $(X^TX)^{-1}X^Ty$. Compared to the ***Lasso regression*** estimates created above, what dinstingishes such $\\hat \\beta_j^{ridge}$ estimates?\n",
    "\n",
    "    1. Assuming $\\hat \\beta_j^{LS} \\not = 0$, the $\\frac{n}{n+\\lambda}$ shrinkage does not cause $\\hat \\beta_j^{ridge}$ to be zeros as can happen with ***Lasso regression*** coefficients\n",
    "    2. ***Lasso regression*** coefficients shrink coefficient values, whereas the $\\hat \\beta_j^{ridge}$ coefficients given here are inflated\n",
    "    3. These ***ridge regression*** coefficients $\\hat \\beta_j^{ridge}$ must be found using a ***nonlinear Gauss-Seidel*** strategy, whereas, the entrie exercise of this problem defines how ***Lasso regression*** coefficients can be found without using a ***coordinate descent*** strategy\n",
    "    4. When computing these ***ridge regression*** coefficients, their computation should proceed in an iterative manner with $\\hat \\beta_j^{LS}$ as the initial value \n"
   ]
  },
  {
   "cell_type": "code",
   "execution_count": 36,
   "id": "a7e5f376",
   "metadata": {
    "deletable": false
   },
   "outputs": [],
   "source": [
    "# 1 point (0.25 points each) [format: `str` either \"A\" or \"B\" or \"C\" or \"D\" based on the choices above]\n",
    "p2q7 = \"B\" \n",
    "p2q8 = \"C\"\n",
    "# Uncomment the above and keep only either \"A\" or \"B\" or \"C\" or \"D\"\n",
    "\n",
    "# This cell will produce a runtime error until the variables `p2q7` and `p2q8` are assigned values"
   ]
  }
 ],
 "metadata": {
  "celltoolbar": "Edit Metadata",
  "kernelspec": {
   "display_name": "Python 3 (ipykernel)",
   "language": "python",
   "name": "python3"
  },
  "language_info": {
   "codemirror_mode": {
    "name": "ipython",
    "version": 3
   },
   "file_extension": ".py",
   "mimetype": "text/x-python",
   "name": "python",
   "nbconvert_exporter": "python",
   "pygments_lexer": "ipython3",
   "version": "3.9.15"
  }
 },
 "nbformat": 4,
 "nbformat_minor": 5
}
