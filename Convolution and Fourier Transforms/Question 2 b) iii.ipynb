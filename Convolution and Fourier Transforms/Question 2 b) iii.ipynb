{
 "cells": [
  {
   "cell_type": "code",
   "execution_count": 7,
   "metadata": {},
   "outputs": [],
   "source": [
    "# Question 2 b)\n",
    "# Author: Ilyas Sharif\n",
    "\n",
    "\"\"\" The scipy.io.wavfile allows you to read and write .wav files \"\"\"\n",
    "from scipy.io.wavfile import read, write\n",
    "from numpy import empty, pi\n",
    "import numpy as np \n",
    "import matplotlib.pyplot as plt\n",
    "from numpy.fft import rfft\n",
    "\n",
    "# read the data into two stereo channels\n",
    "# sample is the sampling rate, data is the data in each channel,\n",
    "# dimensions [2, nsamples]\n",
    "sample, data = read('GraviteaTime.wav')\n",
    "# sample is the sampling frequency, 44100 Hz\n",
    "# separate into channels\n",
    "channel_0 = data[:, 0]\n",
    "channel_1 = data[:, 1]\n",
    "N = len(channel_0)\n",
    "\n",
    "# Calculating the time scale, factoring in sample rate\n",
    "dt = 1 / sample\n",
    "time = np.linspace(0, N*dt, N)\n",
    "time2 = np.linspace(0.02,0.05, int(0.03/dt))\n",
    "\n",
    "# Computing the Fourier Transforms of each Channel\n",
    "f_channel_0 = np.fft.rfft(channel_0)\n",
    "f_channel_1 = np.fft.rfft(channel_1)\n",
    "\n",
    "# Calculating the frequency axis\n",
    "frequency = np.arange(N/2 + 1)/(N*dt)\n",
    "\n",
    "\n",
    "\n",
    "for i in range(len(f_channel_0)):\n",
    "    if frequency[i] > 880:\n",
    "        f_channel_0[i] = 0\n",
    "        f_channel_1[i] = 0\n",
    "        \n",
    "        \n",
    "channel_0 = np.fft.irfft(f_channel_0)\n",
    "channel_1 = np.fft.irfft(f_channel_1)\n",
    "\n",
    "channel_0_out = channel_0\n",
    "channel_1_out = channel_1\n",
    "\n",
    "# this creates an empty array data_out with the same shape as \"data\"\n",
    "# (2 x N_Points) and the same type as \"data\" (int16)\n",
    "data_out = empty(data.shape, dtype = data.dtype)\n",
    "# fill data_out\n",
    "data_out[:, 0] = channel_0_out\n",
    "data_out[:, 1] = channel_1_out\n",
    "write('output_file.wav', sample, data_out)"
   ]
  },
  {
   "cell_type": "code",
   "execution_count": null,
   "metadata": {},
   "outputs": [],
   "source": []
  }
 ],
 "metadata": {
  "kernelspec": {
   "display_name": "Python 3",
   "language": "python",
   "name": "python3"
  },
  "language_info": {
   "codemirror_mode": {
    "name": "ipython",
    "version": 3
   },
   "file_extension": ".py",
   "mimetype": "text/x-python",
   "name": "python",
   "nbconvert_exporter": "python",
   "pygments_lexer": "ipython3",
   "version": "3.8.5"
  }
 },
 "nbformat": 4,
 "nbformat_minor": 4
}
