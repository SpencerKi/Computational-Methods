{
 "cells": [
  {
   "cell_type": "code",
   "execution_count": 35,
   "metadata": {},
   "outputs": [
    {
     "name": "stdout",
     "output_type": "stream",
     "text": [
      "(100, 402)\n"
     ]
    },
    {
     "data": {
      "image/png": "[encoded data removed]",
      "text/plain": [
       "<Figure size 432x288 with 1 Axes>"
      ]
     },
     "metadata": {
      "needs_background": "light"
     },
     "output_type": "display_data"
    },
    {
     "data": {
      "text/plain": [
       "Text(0.5, 1.0, ' Intensity of Light in a Diffraction Grating')"
      ]
     },
     "execution_count": 35,
     "metadata": {},
     "output_type": "execute_result"
    },
    {
     "data": {
      "image/png": "[encoded data removed]",
      "text/plain": [
       "<Figure size 432x288 with 1 Axes>"
      ]
     },
     "metadata": {
      "needs_background": "light"
     },
     "output_type": "display_data"
    }
   ],
   "source": [
    "import numpy as np\n",
    "from numpy import pi, sin\n",
    "from numpy.fft import fft, rfft\n",
    "import matplotlib.pyplot as plt\n",
    "\n",
    "# Constants from Newman converted to meters\n",
    "\n",
    "slit_width = 2e-5 # meters\n",
    "w = 2e-4 # meters\n",
    "W = 10*w # meters\n",
    "wavelength = 5e-7 # meters\n",
    "f = 1 # meters\n",
    "screen_wide = 0.1 # meters\n",
    "alpha = pi/slit_width\n",
    "\n",
    "\n",
    "# creating n, N and un\n",
    "\n",
    "N = 1000\n",
    "n = np.arange(0,N,1)\n",
    "un = (n*W)/N - W/2\n",
    "\n",
    "\n",
    "# creating q(u) function\n",
    "# Formula from exercise 5.19 - Diffraction gradient.\n",
    "# for diffraction grates, we will ignore certain wavelengths as they are blocked.\n",
    "\n",
    "def q(u):\n",
    "    if abs(u) > w/2:\n",
    "        return 0\n",
    "    else:\n",
    "        return (sin(alpha * u))**2\n",
    "\n",
    "\n",
    "# creating the yn function\n",
    "# because of q(u) using abs(u), I need to enter each un point individually.\n",
    "y_n = np.empty(N)\n",
    "for i in range(N):\n",
    "    u = un[i]\n",
    "    y_n[i] = np.sqrt( q(u) )\n",
    "    \n",
    "    \n",
    "# Fourier transforming y_n to get the coefficents ck and calculating xk\n",
    "# Note: all our values are real, so we can use rfft.\n",
    "\n",
    "c_k = np.fft.rfft(y_n)\n",
    "k = np.arange(0,len(c_k),1)\n",
    "Intensity = ( W**2 / N**2 ) * ( np.abs(c_k) )**2\n",
    "# Now, we need to replicate our intensity pattern from 0 to 5 cm so we splice our array\n",
    "# Then we replicate it from -5 to 0 cm, then combine the two. Which is what we do below.\n",
    "# Note: because of the way we defined our x_k array, the 200th point is 5cm, so we splice\n",
    "# at 201. Then we copy and flip this. To get the full array from -5 to 5.\n",
    "positive_x_k = (wavelength*f/W)*k\n",
    "positive_x_k = positive_x_k[:201]  #only delete this line later; when you properly accomplish the -5<x<5cm range\n",
    "negative_x_k = positive_x_k[1:]*-1\n",
    "negative_x_k = negative_x_k[::-1]\n",
    "x_k = np.concatenate((negative_x_k, positive_x_k))\n",
    "\n",
    "\n",
    "# Now, to create the diffraction pattern, we need to make the Intensity\n",
    "# array 2 dimensional. The horizontal axis represents the range -5cm to 5cm\n",
    "# the vertical array is the focal length (1 meter = 100 cm)\n",
    "# Since it is an intensity array, we need to make the 2D intensity array and since the\n",
    "# vertical axis is 100cm, it is 100 points\n",
    "\n",
    "# Predefining our empty intensity array (we will calculate intensity from 0 to 5cm, flip it then combine to get\n",
    "# the full intensity array).\n",
    "num_points = len(positive_x_k)\n",
    "I = np.empty([100, 2 * num_points], float)\n",
    "print(np.shape(I))\n",
    "for i in range(100):\n",
    "    I[i, 0 : num_points] = Intensity[0: num_points][::-1]\n",
    "    I[i, num_points : 2*num_points] = Intensity[0: num_points]\n",
    "\n",
    "    \n",
    "# Plotting the Diffraction pattern\n",
    "plt.imshow(I, 'Blues_r')\n",
    "\n",
    "plt.show()\n",
    "\n",
    "# Plotting the function from -5cm to 5cm (Note, had to slice and stitch together the Intensity function)\n",
    "plt.plot(x_k, np.concatenate((Intensity[1:num_points][::-1], Intensity[0:num_points])))\n",
    "plt.xlabel(\"$x_k$ (meters)\")\n",
    "plt.ylabel(\"Intensity (candela)\")\n",
    "plt.title(\" Intensity of Light in a Diffraction Grating\")"
   ]
  },
  {
   "cell_type": "code",
   "execution_count": null,
   "metadata": {},
   "outputs": [],
   "source": []
  }
 ],
 "metadata": {
  "kernelspec": {
   "display_name": "Python 3",
   "language": "python",
   "name": "python3"
  },
  "language_info": {
   "codemirror_mode": {
    "name": "ipython",
    "version": 3
   },
   "file_extension": ".py",
   "mimetype": "text/x-python",
   "name": "python",
   "nbconvert_exporter": "python",
   "pygments_lexer": "ipython3",
   "version": "3.8.5"
  }
 },
 "nbformat": 4,
 "nbformat_minor": 4
}
